{
  "nbformat": 4,
  "nbformat_minor": 0,
  "metadata": {
    "colab": {
      "provenance": []
    },
    "kernelspec": {
      "name": "python3",
      "display_name": "Python 3"
    },
    "language_info": {
      "name": "python"
    }
  },
  "cells": [
    {
      "cell_type": "code",
      "source": [
        "import pandas as pd\n",
        "import numpy as np\n"
      ],
      "metadata": {
        "id": "6T3ohcLvHUO8"
      },
      "execution_count": null,
      "outputs": []
    },
    {
      "cell_type": "code",
      "execution_count": null,
      "metadata": {
        "id": "dPbXMIZgDOAP"
      },
      "outputs": [],
      "source": [
        "survey_2016 = pd.read_csv(\"/content/drive/MyDrive/OSMI Mental Health in Tech Survey 2016.csv\", na_values = np.nan)\n",
        "survey_2016['year'] = 2016"
      ]
    },
    {
      "cell_type": "code",
      "source": [
        "survey_2016_2 = survey_2016[['Do you work remotely?', 'year',\n",
        "       'What is your age?', 'What is your gender?',\n",
        "       'What country do you live in?',\n",
        "       'What US state or territory do you live in?',\n",
        "       'If you have a mental health issue, do you feel that it interferes with your work when being treated effectively?',\n",
        "       'If you have a mental health issue, do you feel that it interferes with your work when NOT being treated effectively?',\n",
        "       'Do you have a family history of mental illness?',\n",
        "       'Have you had a mental health disorder in the past?',\n",
        "       'Do you currently have a mental health disorder?',\n",
        "       'If yes, what condition(s) have you been diagnosed with?',\n",
        "       'If maybe, what condition(s) do you believe you have?',\n",
        "       'Have you been diagnosed with a mental health condition by a medical professional?',\n",
        "       'If so, what condition(s) were you diagnosed with?',\n",
        "       'Have you ever sought treatment for a mental health issue from a mental health professional?',\n",
        "       'Do you know local or online resources to seek help for a mental health disorder?',\n",
        "       'Are you self-employed?',\n",
        "       'How many employees does your company or organization have?',\n",
        "       'Is your employer primarily a tech company/organization?',\n",
        "        'Does your employer provide mental health benefits as part of healthcare coverage?',\n",
        "        'Do you know the options for mental health care available under your employer-provided coverage?',\n",
        "       'Has your employer ever formally discussed mental health (for example, as part of a wellness campaign or other official communication)?',\n",
        "       'Does your employer offer resources to learn more about mental health concerns and options for seeking help?',\n",
        "'If a mental health issue prompted you to request a medical leave from work, asking for that leave would be:',\n",
        "       'Do you think that discussing a mental health disorder with your employer would have negative consequences?',\n",
        "       'Do you think that discussing a physical health issue with your employer would have negative consequences?',\n",
        "              'Have your previous employers provided mental health benefits?']]\n",
        "\n",
        "\n"
      ],
      "metadata": {
        "id": "ADTOz80CHZcu"
      },
      "execution_count": null,
      "outputs": []
    },
    {
      "cell_type": "code",
      "source": [
        "survey_2016_2.head()"
      ],
      "metadata": {
        "colab": {
          "base_uri": "https://localhost:8080/",
          "height": 751
        },
        "id": "cRpalUvWHZZ-",
        "outputId": "a326d2a9-9f3a-4c0a-aeb8-b71d748df395"
      },
      "execution_count": null,
      "outputs": [
        {
          "output_type": "execute_result",
          "data": {
            "text/plain": [
              "  Do you work remotely?  year What is your age? What is your gender?  \\\n",
              "0             Sometimes  2016                39                 Male   \n",
              "1                 Never  2016                29                 male   \n",
              "2                Always  2016                38                Male    \n",
              "3             Sometimes  2016                43                 male   \n",
              "4             Sometimes  2016                43               Female   \n",
              "\n",
              "  What country do you live in? What US state or territory do you live in?  \\\n",
              "0               United Kingdom                                 California   \n",
              "1     United States of America                                   Illinois   \n",
              "2               United Kingdom                                 California   \n",
              "3               United Kingdom                                 California   \n",
              "4     United States of America                                   Illinois   \n",
              "\n",
              "  If you have a mental health issue, do you feel that it interferes with your work when being treated effectively?  \\\n",
              "0                               Not applicable to me                                                                 \n",
              "1                                             Rarely                                                                 \n",
              "2                               Not applicable to me                                                                 \n",
              "3                                          Sometimes                                                                 \n",
              "4                                          Sometimes                                                                 \n",
              "\n",
              "  If you have a mental health issue, do you feel that it interferes with your work when NOT being treated effectively?  \\\n",
              "0                               Not applicable to me                                                                     \n",
              "1                                          Sometimes                                                                     \n",
              "2                               Not applicable to me                                                                     \n",
              "3                                          Sometimes                                                                     \n",
              "4                                          Sometimes                                                                     \n",
              "\n",
              "  Do you have a family history of mental illness?  \\\n",
              "0                                              No   \n",
              "1                                             Yes   \n",
              "2                                              No   \n",
              "3                                              No   \n",
              "4                                             Yes   \n",
              "\n",
              "  Have you had a mental health disorder in the past?  ...  \\\n",
              "0                                                Yes  ...   \n",
              "1                                                Yes  ...   \n",
              "2                                              Maybe  ...   \n",
              "3                                                Yes  ...   \n",
              "4                                                Yes  ...   \n",
              "\n",
              "  How many employees does your company or organization have?  \\\n",
              "0                                             26-100           \n",
              "1                                               6-25           \n",
              "2                                               6-25           \n",
              "3                                             26-100           \n",
              "4                                               6-25           \n",
              "\n",
              "  Is your employer primarily a tech company/organization?  \\\n",
              "0                                                1.0        \n",
              "1                                                1.0        \n",
              "2                                                1.0        \n",
              "3                                                1.0        \n",
              "4                                                0.0        \n",
              "\n",
              "  Does your employer provide mental health benefits as part of healthcare coverage?  \\\n",
              "0                    Not eligible for coverage / N/A                                  \n",
              "1                                                 No                                  \n",
              "2                                                 No                                  \n",
              "3                                                Yes                                  \n",
              "4                                                Yes                                  \n",
              "\n",
              "  Do you know the options for mental health care available under your employer-provided coverage?  \\\n",
              "0                                                 No                                                \n",
              "1                                                Yes                                                \n",
              "2                                                 No                                                \n",
              "3                                                 No                                                \n",
              "4                                                Yes                                                \n",
              "\n",
              "  Has your employer ever formally discussed mental health (for example, as part of a wellness campaign or other official communication)?  \\\n",
              "0                                                 No                                                                                       \n",
              "1                                                Yes                                                                                       \n",
              "2                                                 No                                                                                       \n",
              "3                                                 No                                                                                       \n",
              "4                                                 No                                                                                       \n",
              "\n",
              "  Does your employer offer resources to learn more about mental health concerns and options for seeking help?  \\\n",
              "0                                                 No                                                            \n",
              "1                                                Yes                                                            \n",
              "2                                                 No                                                            \n",
              "3                                                 No                                                            \n",
              "4                                                 No                                                            \n",
              "\n",
              "  If a mental health issue prompted you to request a medical leave from work, asking for that leave would be:  \\\n",
              "0                                          Very easy                                                            \n",
              "1                                      Somewhat easy                                                            \n",
              "2                         Neither easy nor difficult                                                            \n",
              "3                                      Somewhat easy                                                            \n",
              "4                         Neither easy nor difficult                                                            \n",
              "\n",
              "  Do you think that discussing a mental health disorder with your employer would have negative consequences?  \\\n",
              "0                                                 No                                                           \n",
              "1                                                 No                                                           \n",
              "2                                              Maybe                                                           \n",
              "3                                              Maybe                                                           \n",
              "4                                                Yes                                                           \n",
              "\n",
              "  Do you think that discussing a physical health issue with your employer would have negative consequences?  \\\n",
              "0                                                 No                                                          \n",
              "1                                                 No                                                          \n",
              "2                                                 No                                                          \n",
              "3                                                 No                                                          \n",
              "4                                              Maybe                                                          \n",
              "\n",
              "  Have your previous employers provided mental health benefits?  \n",
              "0                                       No, none did             \n",
              "1                                  Yes, they all did             \n",
              "2                                       No, none did             \n",
              "3                                           Some did             \n",
              "4                                       I don't know             \n",
              "\n",
              "[5 rows x 28 columns]"
            ],
            "text/html": [
              "\n",
              "  <div id=\"df-ee3710b8-5630-4fd0-b834-8f56565d9342\">\n",
              "    <div class=\"colab-df-container\">\n",
              "      <div>\n",
              "<style scoped>\n",
              "    .dataframe tbody tr th:only-of-type {\n",
              "        vertical-align: middle;\n",
              "    }\n",
              "\n",
              "    .dataframe tbody tr th {\n",
              "        vertical-align: top;\n",
              "    }\n",
              "\n",
              "    .dataframe thead th {\n",
              "        text-align: right;\n",
              "    }\n",
              "</style>\n",
              "<table border=\"1\" class=\"dataframe\">\n",
              "  <thead>\n",
              "    <tr style=\"text-align: right;\">\n",
              "      <th></th>\n",
              "      <th>Do you work remotely?</th>\n",
              "      <th>year</th>\n",
              "      <th>What is your age?</th>\n",
              "      <th>What is your gender?</th>\n",
              "      <th>What country do you live in?</th>\n",
              "      <th>What US state or territory do you live in?</th>\n",
              "      <th>If you have a mental health issue, do you feel that it interferes with your work when being treated effectively?</th>\n",
              "      <th>If you have a mental health issue, do you feel that it interferes with your work when NOT being treated effectively?</th>\n",
              "      <th>Do you have a family history of mental illness?</th>\n",
              "      <th>Have you had a mental health disorder in the past?</th>\n",
              "      <th>...</th>\n",
              "      <th>How many employees does your company or organization have?</th>\n",
              "      <th>Is your employer primarily a tech company/organization?</th>\n",
              "      <th>Does your employer provide mental health benefits as part of healthcare coverage?</th>\n",
              "      <th>Do you know the options for mental health care available under your employer-provided coverage?</th>\n",
              "      <th>Has your employer ever formally discussed mental health (for example, as part of a wellness campaign or other official communication)?</th>\n",
              "      <th>Does your employer offer resources to learn more about mental health concerns and options for seeking help?</th>\n",
              "      <th>If a mental health issue prompted you to request a medical leave from work, asking for that leave would be:</th>\n",
              "      <th>Do you think that discussing a mental health disorder with your employer would have negative consequences?</th>\n",
              "      <th>Do you think that discussing a physical health issue with your employer would have negative consequences?</th>\n",
              "      <th>Have your previous employers provided mental health benefits?</th>\n",
              "    </tr>\n",
              "  </thead>\n",
              "  <tbody>\n",
              "    <tr>\n",
              "      <th>0</th>\n",
              "      <td>Sometimes</td>\n",
              "      <td>2016</td>\n",
              "      <td>39</td>\n",
              "      <td>Male</td>\n",
              "      <td>United Kingdom</td>\n",
              "      <td>California</td>\n",
              "      <td>Not applicable to me</td>\n",
              "      <td>Not applicable to me</td>\n",
              "      <td>No</td>\n",
              "      <td>Yes</td>\n",
              "      <td>...</td>\n",
              "      <td>26-100</td>\n",
              "      <td>1.0</td>\n",
              "      <td>Not eligible for coverage / N/A</td>\n",
              "      <td>No</td>\n",
              "      <td>No</td>\n",
              "      <td>No</td>\n",
              "      <td>Very easy</td>\n",
              "      <td>No</td>\n",
              "      <td>No</td>\n",
              "      <td>No, none did</td>\n",
              "    </tr>\n",
              "    <tr>\n",
              "      <th>1</th>\n",
              "      <td>Never</td>\n",
              "      <td>2016</td>\n",
              "      <td>29</td>\n",
              "      <td>male</td>\n",
              "      <td>United States of America</td>\n",
              "      <td>Illinois</td>\n",
              "      <td>Rarely</td>\n",
              "      <td>Sometimes</td>\n",
              "      <td>Yes</td>\n",
              "      <td>Yes</td>\n",
              "      <td>...</td>\n",
              "      <td>6-25</td>\n",
              "      <td>1.0</td>\n",
              "      <td>No</td>\n",
              "      <td>Yes</td>\n",
              "      <td>Yes</td>\n",
              "      <td>Yes</td>\n",
              "      <td>Somewhat easy</td>\n",
              "      <td>No</td>\n",
              "      <td>No</td>\n",
              "      <td>Yes, they all did</td>\n",
              "    </tr>\n",
              "    <tr>\n",
              "      <th>2</th>\n",
              "      <td>Always</td>\n",
              "      <td>2016</td>\n",
              "      <td>38</td>\n",
              "      <td>Male</td>\n",
              "      <td>United Kingdom</td>\n",
              "      <td>California</td>\n",
              "      <td>Not applicable to me</td>\n",
              "      <td>Not applicable to me</td>\n",
              "      <td>No</td>\n",
              "      <td>Maybe</td>\n",
              "      <td>...</td>\n",
              "      <td>6-25</td>\n",
              "      <td>1.0</td>\n",
              "      <td>No</td>\n",
              "      <td>No</td>\n",
              "      <td>No</td>\n",
              "      <td>No</td>\n",
              "      <td>Neither easy nor difficult</td>\n",
              "      <td>Maybe</td>\n",
              "      <td>No</td>\n",
              "      <td>No, none did</td>\n",
              "    </tr>\n",
              "    <tr>\n",
              "      <th>3</th>\n",
              "      <td>Sometimes</td>\n",
              "      <td>2016</td>\n",
              "      <td>43</td>\n",
              "      <td>male</td>\n",
              "      <td>United Kingdom</td>\n",
              "      <td>California</td>\n",
              "      <td>Sometimes</td>\n",
              "      <td>Sometimes</td>\n",
              "      <td>No</td>\n",
              "      <td>Yes</td>\n",
              "      <td>...</td>\n",
              "      <td>26-100</td>\n",
              "      <td>1.0</td>\n",
              "      <td>Yes</td>\n",
              "      <td>No</td>\n",
              "      <td>No</td>\n",
              "      <td>No</td>\n",
              "      <td>Somewhat easy</td>\n",
              "      <td>Maybe</td>\n",
              "      <td>No</td>\n",
              "      <td>Some did</td>\n",
              "    </tr>\n",
              "    <tr>\n",
              "      <th>4</th>\n",
              "      <td>Sometimes</td>\n",
              "      <td>2016</td>\n",
              "      <td>43</td>\n",
              "      <td>Female</td>\n",
              "      <td>United States of America</td>\n",
              "      <td>Illinois</td>\n",
              "      <td>Sometimes</td>\n",
              "      <td>Sometimes</td>\n",
              "      <td>Yes</td>\n",
              "      <td>Yes</td>\n",
              "      <td>...</td>\n",
              "      <td>6-25</td>\n",
              "      <td>0.0</td>\n",
              "      <td>Yes</td>\n",
              "      <td>Yes</td>\n",
              "      <td>No</td>\n",
              "      <td>No</td>\n",
              "      <td>Neither easy nor difficult</td>\n",
              "      <td>Yes</td>\n",
              "      <td>Maybe</td>\n",
              "      <td>I don't know</td>\n",
              "    </tr>\n",
              "  </tbody>\n",
              "</table>\n",
              "<p>5 rows × 28 columns</p>\n",
              "</div>\n",
              "      <button class=\"colab-df-convert\" onclick=\"convertToInteractive('df-ee3710b8-5630-4fd0-b834-8f56565d9342')\"\n",
              "              title=\"Convert this dataframe to an interactive table.\"\n",
              "              style=\"display:none;\">\n",
              "        \n",
              "  <svg xmlns=\"http://www.w3.org/2000/svg\" height=\"24px\"viewBox=\"0 0 24 24\"\n",
              "       width=\"24px\">\n",
              "    <path d=\"M0 0h24v24H0V0z\" fill=\"none\"/>\n",
              "    <path d=\"M18.56 5.44l.94 2.06.94-2.06 2.06-.94-2.06-.94-.94-2.06-.94 2.06-2.06.94zm-11 1L8.5 8.5l.94-2.06 2.06-.94-2.06-.94L8.5 2.5l-.94 2.06-2.06.94zm10 10l.94 2.06.94-2.06 2.06-.94-2.06-.94-.94-2.06-.94 2.06-2.06.94z\"/><path d=\"M17.41 7.96l-1.37-1.37c-.4-.4-.92-.59-1.43-.59-.52 0-1.04.2-1.43.59L10.3 9.45l-7.72 7.72c-.78.78-.78 2.05 0 2.83L4 21.41c.39.39.9.59 1.41.59.51 0 1.02-.2 1.41-.59l7.78-7.78 2.81-2.81c.8-.78.8-2.07 0-2.86zM5.41 20L4 18.59l7.72-7.72 1.47 1.35L5.41 20z\"/>\n",
              "  </svg>\n",
              "      </button>\n",
              "      \n",
              "  <style>\n",
              "    .colab-df-container {\n",
              "      display:flex;\n",
              "      flex-wrap:wrap;\n",
              "      gap: 12px;\n",
              "    }\n",
              "\n",
              "    .colab-df-convert {\n",
              "      background-color: #E8F0FE;\n",
              "      border: none;\n",
              "      border-radius: 50%;\n",
              "      cursor: pointer;\n",
              "      display: none;\n",
              "      fill: #1967D2;\n",
              "      height: 32px;\n",
              "      padding: 0 0 0 0;\n",
              "      width: 32px;\n",
              "    }\n",
              "\n",
              "    .colab-df-convert:hover {\n",
              "      background-color: #E2EBFA;\n",
              "      box-shadow: 0px 1px 2px rgba(60, 64, 67, 0.3), 0px 1px 3px 1px rgba(60, 64, 67, 0.15);\n",
              "      fill: #174EA6;\n",
              "    }\n",
              "\n",
              "    [theme=dark] .colab-df-convert {\n",
              "      background-color: #3B4455;\n",
              "      fill: #D2E3FC;\n",
              "    }\n",
              "\n",
              "    [theme=dark] .colab-df-convert:hover {\n",
              "      background-color: #434B5C;\n",
              "      box-shadow: 0px 1px 3px 1px rgba(0, 0, 0, 0.15);\n",
              "      filter: drop-shadow(0px 1px 2px rgba(0, 0, 0, 0.3));\n",
              "      fill: #FFFFFF;\n",
              "    }\n",
              "  </style>\n",
              "\n",
              "      <script>\n",
              "        const buttonEl =\n",
              "          document.querySelector('#df-ee3710b8-5630-4fd0-b834-8f56565d9342 button.colab-df-convert');\n",
              "        buttonEl.style.display =\n",
              "          google.colab.kernel.accessAllowed ? 'block' : 'none';\n",
              "\n",
              "        async function convertToInteractive(key) {\n",
              "          const element = document.querySelector('#df-ee3710b8-5630-4fd0-b834-8f56565d9342');\n",
              "          const dataTable =\n",
              "            await google.colab.kernel.invokeFunction('convertToInteractive',\n",
              "                                                     [key], {});\n",
              "          if (!dataTable) return;\n",
              "\n",
              "          const docLinkHtml = 'Like what you see? Visit the ' +\n",
              "            '<a target=\"_blank\" href=https://colab.research.google.com/notebooks/data_table.ipynb>data table notebook</a>'\n",
              "            + ' to learn more about interactive tables.';\n",
              "          element.innerHTML = '';\n",
              "          dataTable['output_type'] = 'display_data';\n",
              "          await google.colab.output.renderOutput(dataTable, element);\n",
              "          const docLink = document.createElement('div');\n",
              "          docLink.innerHTML = docLinkHtml;\n",
              "          element.appendChild(docLink);\n",
              "        }\n",
              "      </script>\n",
              "    </div>\n",
              "  </div>\n",
              "  "
            ]
          },
          "metadata": {},
          "execution_count": 51
        }
      ]
    },
    {
      "cell_type": "code",
      "source": [
        "survey_2016_2.rename(columns = {'Do you work remotely?':'remote',\n",
        "                                'What is your age?':'age',\n",
        "                                'What is your gender?':'gender',\n",
        "                                'What country do you live in?':'country',\n",
        "                                'What US state or territory do you live in?':'state',\n",
        "                                \"If you have a mental health issue, do you feel that it interferes with your work when being treated effectively?\":'work_interface',\n",
        "                                'If you have a mental health issue, do you feel that it interferes with your work when NOT being treated effectively?':'work_inteface1',\n",
        "                                'Do you have a family history of mental illness?':'famiily_history',\n",
        "                                'Have you had a mental health disorder in the past?':'past_mh_disorder',\n",
        "                                'Do you currently have a mental health disorder?':'current_mh_disorder',\n",
        "                                'Have you ever sought treatment for a mental health issue from a mental health professional?':'treatment',\n",
        "                                'Do you know local or online resources to seek help for a mental health disorder?':'online_ressources',\n",
        "                                'Are you self-employed?':'self_emplyed',\n",
        "                                'How many employees does your company or organization have?':'num_empoyees',\n",
        "                                'Is your employer primarily a tech company/organization?':'tech_company',\n",
        "                                'Does your employer provide mental health benefits as part of healthcare coverage?':'mh_benefits',\n",
        "        'Do you know the options for mental health care available under your employer-provided coverage?':'mh_care_option',\n",
        "       'Has your employer ever formally discussed mental health (for example, as part of a wellness campaign or other official communication)?':'wellness_program',\n",
        "       'Does your employer offer resources to learn more about mental health concerns and options for seeking help?':'mh_ressources',\n",
        "       'If a mental health issue prompted you to request a medical leave from work, asking for that leave would be:':'leave_policy',\n",
        "       'Do you think that discussing a mental health disorder with your employer would have negative consequences?':'mh_impact',\n",
        "       'Do you think that discussing a physical health issue with your employer would have negative consequences?':'ph_impact',\n",
        "              'Have your previous employers provided mental health benefits?':'benefits2'}, inplace = True)"
      ],
      "metadata": {
        "colab": {
          "base_uri": "https://localhost:8080/"
        },
        "id": "1-z6AHU1HZYc",
        "outputId": "4b8bf0bb-1bcb-45f8-a8d4-7549c63d1842"
      },
      "execution_count": null,
      "outputs": [
        {
          "output_type": "stream",
          "name": "stderr",
          "text": [
            "/usr/local/lib/python3.8/dist-packages/pandas/core/frame.py:5039: SettingWithCopyWarning: \n",
            "A value is trying to be set on a copy of a slice from a DataFrame\n",
            "\n",
            "See the caveats in the documentation: https://pandas.pydata.org/pandas-docs/stable/user_guide/indexing.html#returning-a-view-versus-a-copy\n",
            "  return super().rename(\n"
          ]
        }
      ]
    },
    {
      "cell_type": "code",
      "source": [
        "survey_2016_2.columns\n"
      ],
      "metadata": {
        "colab": {
          "base_uri": "https://localhost:8080/"
        },
        "id": "13FuTdu8HZTn",
        "outputId": "2e1726ce-2367-425b-ee1f-58b261e7a9c8"
      },
      "execution_count": null,
      "outputs": [
        {
          "output_type": "execute_result",
          "data": {
            "text/plain": [
              "Index(['remote', 'year', 'age', 'gender', 'country', 'state', 'work_interface',\n",
              "       'work_inteface1', 'famiily_history', 'past_mh_disorder',\n",
              "       'current_mh_disorder',\n",
              "       'If yes, what condition(s) have you been diagnosed with?',\n",
              "       'If maybe, what condition(s) do you believe you have?',\n",
              "       'Have you been diagnosed with a mental health condition by a medical professional?',\n",
              "       'If so, what condition(s) were you diagnosed with?', 'treatment',\n",
              "       'online_ressources', 'self_emplyed', 'num_empoyees', 'tech_company',\n",
              "       'mh_benefits', 'mh_care_option', 'wellness_program', 'mh_ressources',\n",
              "       'leave_policy', 'mh_impact', 'ph_impact', 'benefits2'],\n",
              "      dtype='object')"
            ]
          },
          "metadata": {},
          "execution_count": 53
        }
      ]
    },
    {
      "cell_type": "code",
      "source": [
        "survey_2016_2.info()"
      ],
      "metadata": {
        "colab": {
          "base_uri": "https://localhost:8080/"
        },
        "id": "KKXYJmafHZSV",
        "outputId": "3e2e09b7-2a49-4a72-f038-9fd5031ea066"
      },
      "execution_count": null,
      "outputs": [
        {
          "output_type": "stream",
          "name": "stdout",
          "text": [
            "<class 'pandas.core.frame.DataFrame'>\n",
            "RangeIndex: 1433 entries, 0 to 1432\n",
            "Data columns (total 28 columns):\n",
            " #   Column                                                                             Non-Null Count  Dtype \n",
            "---  ------                                                                             --------------  ----- \n",
            " 0   remote                                                                             1433 non-null   object\n",
            " 1   year                                                                               1433 non-null   object\n",
            " 2   age                                                                                1433 non-null   object\n",
            " 3   gender                                                                             1433 non-null   object\n",
            " 4   country                                                                            1433 non-null   object\n",
            " 5   state                                                                              1433 non-null   object\n",
            " 6   work_interface                                                                     1433 non-null   object\n",
            " 7   work_inteface1                                                                     1433 non-null   object\n",
            " 8   famiily_history                                                                    1433 non-null   object\n",
            " 9   past_mh_disorder                                                                   1433 non-null   object\n",
            " 10  current_mh_disorder                                                                1433 non-null   object\n",
            " 11  If yes, what condition(s) have you been diagnosed with?                            1433 non-null   object\n",
            " 12  If maybe, what condition(s) do you believe you have?                               1433 non-null   object\n",
            " 13  Have you been diagnosed with a mental health condition by a medical professional?  1433 non-null   object\n",
            " 14  If so, what condition(s) were you diagnosed with?                                  1433 non-null   object\n",
            " 15  treatment                                                                          1433 non-null   object\n",
            " 16  online_ressources                                                                  1433 non-null   object\n",
            " 17  self_emplyed                                                                       1433 non-null   object\n",
            " 18  num_empoyees                                                                       1433 non-null   object\n",
            " 19  tech_company                                                                       1433 non-null   object\n",
            " 20  mh_benefits                                                                        1433 non-null   object\n",
            " 21  mh_care_option                                                                     1433 non-null   object\n",
            " 22  wellness_program                                                                   1433 non-null   object\n",
            " 23  mh_ressources                                                                      1433 non-null   object\n",
            " 24  leave_policy                                                                       1433 non-null   object\n",
            " 25  mh_impact                                                                          1433 non-null   object\n",
            " 26  ph_impact                                                                          1433 non-null   object\n",
            " 27  benefits2                                                                          1433 non-null   object\n",
            "dtypes: object(28)\n",
            "memory usage: 313.6+ KB\n"
          ]
        }
      ]
    },
    {
      "cell_type": "code",
      "source": [
        "print(\"The different gender notations used in our dataset are: \\n\")\n",
        "survey_2016_2['gender'].unique()\n"
      ],
      "metadata": {
        "colab": {
          "base_uri": "https://localhost:8080/"
        },
        "id": "YYVibYaKSKC7",
        "outputId": "5bb1e59e-6933-44ac-a95c-e33281064b94"
      },
      "execution_count": null,
      "outputs": [
        {
          "output_type": "stream",
          "name": "stdout",
          "text": [
            "The different gender notations used in our dataset are: \n",
            "\n"
          ]
        },
        {
          "output_type": "execute_result",
          "data": {
            "text/plain": [
              "array(['Male', 'male', 'Male ', 'Female', 'M', 'female', 'm',\n",
              "       'I identify as female.', 'female ', 'Bigender', 'non-binary',\n",
              "       'Female assigned at birth ', 'F', 'Woman', 'man', 'fm', 'f',\n",
              "       'Cis female ', 'Transitioned, M2F', 'Genderfluid (born female)',\n",
              "       'Other/Transfeminine', 'Female or Multi-Gender Femme', 'Female ',\n",
              "       'woman', 'female/woman', 'Cis male', 'Male.', 'Androgynous',\n",
              "       'male 9:1 female, roughly', 'Male (cis)', 'Other', 'nb masculine',\n",
              "       'Cisgender Female', 'Man', 'Sex is male', 'none of your business',\n",
              "       'genderqueer', 'cis male', 'Human', 'Genderfluid', 'Enby', 'Malr',\n",
              "       'genderqueer woman', 'mtf', 'Queer', 'Agender', 'Dude', 'Fluid',\n",
              "       \"I'm a man why didn't you make this a drop down question. You should of asked sex? And I would of answered yes please. Seriously how much text can this take? \",\n",
              "       'mail', 'M|', 'Male/genderqueer', 'fem', 'Nonbinary', 'male ',\n",
              "       'human', 'Female (props for making this a freeform field, though)',\n",
              "       ' Female', 'Unicorn', 'Cis Male', 'Male (trans, FtM)', 'Cis-woman',\n",
              "       'Genderqueer', 'cisdude', 'Genderflux demi-girl',\n",
              "       'female-bodied; no feelings about gender', 'cis man', 'AFAB',\n",
              "       'Transgender woman', 'MALE'], dtype=object)"
            ]
          },
          "metadata": {},
          "execution_count": 55
        }
      ]
    },
    {
      "cell_type": "code",
      "source": [
        "Male=['Male', 'male', 'Male ','M', 'm',\n",
        "       'Bigender', 'non-binary',\n",
        "       'man', 'Cis male', 'Male.', 'Androgynous',\n",
        "       'male 9:1 female, roughly', 'nan', 'Male (cis)', 'Other',\n",
        "       'nb masculine','Man', 'Sex is male',\n",
        "       'none of your business', 'genderqueer', 'cis male', 'Human',\n",
        "       'Genderfluid','Malr', 'Dude', 'Fluid',\n",
        "       \"I'm a man why didn't you make this a drop down question. You should of asked sex? And I would of answered yes please. Seriously how much text can this take? \",\n",
        "       'mail', 'M|', 'Male/genderqueer','male ',\n",
        "       'human','Cis Male', 'Male (trans, FtM)', 'cisdude', 'cis man', 'AFAB', 'MALE']\n",
        "\n",
        "# gender column needs to be recoded (number of unique values = 70)\n",
        "survey_2016_2['gender'].replace(to_replace = Male, value = 'Male', inplace = True)"
      ],
      "metadata": {
        "colab": {
          "base_uri": "https://localhost:8080/"
        },
        "id": "3yas8GyjSJ_T",
        "outputId": "8fe0a347-25c0-4408-d9a2-56dbba3b4230"
      },
      "execution_count": null,
      "outputs": [
        {
          "output_type": "stream",
          "name": "stderr",
          "text": [
            "/usr/local/lib/python3.8/dist-packages/pandas/core/generic.py:6619: SettingWithCopyWarning: \n",
            "A value is trying to be set on a copy of a slice from a DataFrame\n",
            "\n",
            "See the caveats in the documentation: https://pandas.pydata.org/pandas-docs/stable/user_guide/indexing.html#returning-a-view-versus-a-copy\n",
            "  return self._update_inplace(result)\n"
          ]
        }
      ]
    },
    {
      "cell_type": "code",
      "source": [
        "Female=['Female','female',\n",
        "       'I identify as female.', 'female ',\n",
        "       'Female assigned at birth ', 'F', 'Woman','fm', 'f',\n",
        "       'Cis female ', 'Transitioned, M2F', 'Genderfluid (born female)',\n",
        "       'Other/Transfeminine', 'Female or Multi-Gender Femme', 'Female ',\n",
        "       'woman', 'female/woman', 'Cis male', 'Male.', 'Androgynous',\n",
        "       'male 9:1 female, roughly','Cisgender Female','genderqueer','Enby','genderqueer woman', 'mtf', 'Queer',\n",
        "        'Fluid',\n",
        "        'fem', 'Nonbinary','Female (props for making this a freeform field, though)',\n",
        "       ' Female', 'Unicorn', 'Cis-woman',\n",
        "       'Genderqueer', 'cisdude', 'Genderflux demi-girl',\n",
        "       'female-bodied; no feelings about gender','Transgender woman','Agender']\n",
        "\n",
        "survey_2016_2['gender'].replace(to_replace = Female, value = 'Female', inplace = True)"
      ],
      "metadata": {
        "id": "B-chizaeSJ9q"
      },
      "execution_count": null,
      "outputs": []
    },
    {
      "cell_type": "code",
      "source": [
        "survey_2016_2['gender'].value_counts()"
      ],
      "metadata": {
        "colab": {
          "base_uri": "https://localhost:8080/"
        },
        "id": "xh4sKHkaSJ6u",
        "outputId": "6db63b16-d91e-42bf-92ed-23c2a04f40db"
      },
      "execution_count": null,
      "outputs": [
        {
          "output_type": "execute_result",
          "data": {
            "text/plain": [
              "Male      1078\n",
              "Female     355\n",
              "Name: gender, dtype: int64"
            ]
          },
          "metadata": {},
          "execution_count": 58
        }
      ]
    },
    {
      "cell_type": "code",
      "source": [
        "survey_2016_2 = survey_2016_2.astype({'gender':'string'})\n"
      ],
      "metadata": {
        "id": "yWte0LeWSJ5e"
      },
      "execution_count": null,
      "outputs": []
    },
    {
      "cell_type": "code",
      "source": [
        "survey_2016_2.dtypes"
      ],
      "metadata": {
        "colab": {
          "base_uri": "https://localhost:8080/"
        },
        "id": "FrYaQJxMUtcz",
        "outputId": "40babfa2-6733-4f96-fc0c-01a96f9e895d"
      },
      "execution_count": null,
      "outputs": [
        {
          "output_type": "execute_result",
          "data": {
            "text/plain": [
              "remote                                                                               object\n",
              "year                                                                                 object\n",
              "age                                                                                  object\n",
              "gender                                                                               string\n",
              "country                                                                              object\n",
              "state                                                                                object\n",
              "work_interface                                                                       object\n",
              "work_inteface1                                                                       object\n",
              "famiily_history                                                                      object\n",
              "past_mh_disorder                                                                     object\n",
              "current_mh_disorder                                                                  object\n",
              "If yes, what condition(s) have you been diagnosed with?                              object\n",
              "If maybe, what condition(s) do you believe you have?                                 object\n",
              "Have you been diagnosed with a mental health condition by a medical professional?    object\n",
              "If so, what condition(s) were you diagnosed with?                                    object\n",
              "treatment                                                                            object\n",
              "online_ressources                                                                    object\n",
              "self_emplyed                                                                         object\n",
              "num_empoyees                                                                         object\n",
              "tech_company                                                                         object\n",
              "mh_benefits                                                                          object\n",
              "mh_care_option                                                                       object\n",
              "wellness_program                                                                     object\n",
              "mh_ressources                                                                        object\n",
              "leave_policy                                                                         object\n",
              "mh_impact                                                                            object\n",
              "ph_impact                                                                            object\n",
              "benefits2                                                                            object\n",
              "dtype: object"
            ]
          },
          "metadata": {},
          "execution_count": 60
        }
      ]
    },
    {
      "cell_type": "code",
      "source": [
        "survey_2016_2.isna().sum()"
      ],
      "metadata": {
        "colab": {
          "base_uri": "https://localhost:8080/"
        },
        "id": "WB8ImHNAUtYB",
        "outputId": "b42f447a-08fd-41ae-b9d2-bdf8f0454363"
      },
      "execution_count": null,
      "outputs": [
        {
          "output_type": "execute_result",
          "data": {
            "text/plain": [
              "remote                                                                               0\n",
              "year                                                                                 0\n",
              "age                                                                                  0\n",
              "gender                                                                               0\n",
              "country                                                                              0\n",
              "state                                                                                0\n",
              "work_interface                                                                       0\n",
              "work_inteface1                                                                       0\n",
              "famiily_history                                                                      0\n",
              "past_mh_disorder                                                                     0\n",
              "current_mh_disorder                                                                  0\n",
              "If yes, what condition(s) have you been diagnosed with?                              0\n",
              "If maybe, what condition(s) do you believe you have?                                 0\n",
              "Have you been diagnosed with a mental health condition by a medical professional?    0\n",
              "If so, what condition(s) were you diagnosed with?                                    0\n",
              "treatment                                                                            0\n",
              "online_ressources                                                                    0\n",
              "self_emplyed                                                                         0\n",
              "num_empoyees                                                                         0\n",
              "tech_company                                                                         0\n",
              "mh_benefits                                                                          0\n",
              "mh_care_option                                                                       0\n",
              "wellness_program                                                                     0\n",
              "mh_ressources                                                                        0\n",
              "leave_policy                                                                         0\n",
              "mh_impact                                                                            0\n",
              "ph_impact                                                                            0\n",
              "benefits2                                                                            0\n",
              "dtype: int64"
            ]
          },
          "metadata": {},
          "execution_count": 61
        }
      ]
    },
    {
      "cell_type": "code",
      "source": [
        "survey_2016_2['num_empoyees'].value_counts()"
      ],
      "metadata": {
        "colab": {
          "base_uri": "https://localhost:8080/"
        },
        "id": "KQwcK_W8UtWd",
        "outputId": "3360b44f-f6de-4791-86e4-d4db44f5e57f"
      },
      "execution_count": null,
      "outputs": [
        {
          "output_type": "execute_result",
          "data": {
            "text/plain": [
              "26-100            579\n",
              "More than 1000    256\n",
              "100-500           248\n",
              "6-25              210\n",
              "500-1000           80\n",
              "1-5                60\n",
              "Name: num_empoyees, dtype: int64"
            ]
          },
          "metadata": {},
          "execution_count": 62
        }
      ]
    },
    {
      "cell_type": "code",
      "source": [
        "survey_2016_2['num_empoyees'].replace(to_replace ='26-100' , value = 55, inplace = True)\n"
      ],
      "metadata": {
        "id": "-e2823WXcnrD"
      },
      "execution_count": null,
      "outputs": []
    },
    {
      "cell_type": "code",
      "source": [
        "survey_2016_2['num_empoyees'].replace(to_replace ='6-25' , value = 40, inplace = True)\n"
      ],
      "metadata": {
        "id": "1ZT4jpzCcnna"
      },
      "execution_count": null,
      "outputs": []
    },
    {
      "cell_type": "code",
      "source": [
        "survey_2016_2['num_empoyees'].replace(to_replace ='1-5' , value = 5, inplace = True)\n",
        "survey_2016_2['num_empoyees'].replace(to_replace ='100-500' , value = 300, inplace = True)\n",
        "survey_2016_2['num_empoyees'].replace(to_replace ='500-1000' , value = 700, inplace = True)\n",
        "survey_2016_2['num_empoyees'].replace(to_replace ='More than 1000' , value = 1300, inplace = True)\n"
      ],
      "metadata": {
        "id": "Hc4CqOxgcnl8"
      },
      "execution_count": null,
      "outputs": []
    },
    {
      "cell_type": "code",
      "source": [
        "survey_2016_2['num_empoyees'].value_counts()"
      ],
      "metadata": {
        "colab": {
          "base_uri": "https://localhost:8080/"
        },
        "id": "FhbBBNUfdruX",
        "outputId": "93c48343-eea5-4560-cb8f-034d4131b05a"
      },
      "execution_count": null,
      "outputs": [
        {
          "output_type": "execute_result",
          "data": {
            "text/plain": [
              "55      579\n",
              "1300    256\n",
              "300     248\n",
              "40      210\n",
              "700      80\n",
              "5        60\n",
              "Name: num_empoyees, dtype: int64"
            ]
          },
          "metadata": {},
          "execution_count": 66
        }
      ]
    },
    {
      "cell_type": "code",
      "source": [
        "\n",
        "survey_2016_2 = survey_2016_2.astype({'num_empoyees':'int'})\n"
      ],
      "metadata": {
        "id": "CXY4IkVFdrsn"
      },
      "execution_count": null,
      "outputs": []
    },
    {
      "cell_type": "code",
      "source": [
        "##mean_nn =survey_2016_2['num_empoyees'].mean().round(0)\n",
        "\n",
        "survey_2016_2['num_empoyees'].fillna(survey_2016_2['num_empoyees'].mean().round(0))"
      ],
      "metadata": {
        "colab": {
          "base_uri": "https://localhost:8080/"
        },
        "id": "9beleWy2drh2",
        "outputId": "e186388b-2a4a-4f0f-deb8-b402db3df71e"
      },
      "execution_count": null,
      "outputs": [
        {
          "output_type": "execute_result",
          "data": {
            "text/plain": [
              "0        55\n",
              "1        40\n",
              "2        40\n",
              "3        55\n",
              "4        40\n",
              "       ... \n",
              "1428     55\n",
              "1429     55\n",
              "1430    300\n",
              "1431    300\n",
              "1432    300\n",
              "Name: num_empoyees, Length: 1433, dtype: int64"
            ]
          },
          "metadata": {},
          "execution_count": 68
        }
      ]
    },
    {
      "cell_type": "code",
      "source": [
        "survey_2016_2['num_empoyees'] = survey_2016_2['num_empoyees'].replace(np.nan, survey_2016_2['num_empoyees'].mean().round(0))\n"
      ],
      "metadata": {
        "id": "oEytL9yxdrfw"
      },
      "execution_count": null,
      "outputs": []
    },
    {
      "cell_type": "code",
      "source": [
        "survey_2016_2.dtypes\n"
      ],
      "metadata": {
        "colab": {
          "base_uri": "https://localhost:8080/"
        },
        "id": "IjJPMQzndrdu",
        "outputId": "464c4302-ac07-4494-d66d-7e4e5a22d236"
      },
      "execution_count": null,
      "outputs": [
        {
          "output_type": "execute_result",
          "data": {
            "text/plain": [
              "remote                                                                               object\n",
              "year                                                                                 object\n",
              "age                                                                                  object\n",
              "gender                                                                               string\n",
              "country                                                                              object\n",
              "state                                                                                object\n",
              "work_interface                                                                       object\n",
              "work_inteface1                                                                       object\n",
              "famiily_history                                                                      object\n",
              "past_mh_disorder                                                                     object\n",
              "current_mh_disorder                                                                  object\n",
              "If yes, what condition(s) have you been diagnosed with?                              object\n",
              "If maybe, what condition(s) do you believe you have?                                 object\n",
              "Have you been diagnosed with a mental health condition by a medical professional?    object\n",
              "If so, what condition(s) were you diagnosed with?                                    object\n",
              "treatment                                                                            object\n",
              "online_ressources                                                                    object\n",
              "self_emplyed                                                                         object\n",
              "num_empoyees                                                                          int64\n",
              "tech_company                                                                         object\n",
              "mh_benefits                                                                          object\n",
              "mh_care_option                                                                       object\n",
              "wellness_program                                                                     object\n",
              "mh_ressources                                                                        object\n",
              "leave_policy                                                                         object\n",
              "mh_impact                                                                            object\n",
              "ph_impact                                                                            object\n",
              "benefits2                                                                            object\n",
              "dtype: object"
            ]
          },
          "metadata": {},
          "execution_count": 70
        }
      ]
    },
    {
      "cell_type": "code",
      "source": [
        "survey_2016_2['tech_company'].value_counts()"
      ],
      "metadata": {
        "colab": {
          "base_uri": "https://localhost:8080/"
        },
        "id": "t-ecf2zedrb0",
        "outputId": "72484905-ddf1-4b00-e0dc-a56bdbac4d52"
      },
      "execution_count": null,
      "outputs": [
        {
          "output_type": "execute_result",
          "data": {
            "text/plain": [
              "1.0    1170\n",
              "0.0     263\n",
              "Name: tech_company, dtype: int64"
            ]
          },
          "metadata": {},
          "execution_count": 71
        }
      ]
    },
    {
      "cell_type": "code",
      "source": [
        "survey_2016_2['tech_company'].replace(to_replace =1.0 , value = 'Yes', inplace = True)\n",
        "survey_2016_2['tech_company'].replace(to_replace =0.0 , value = 'No', inplace = True)\n"
      ],
      "metadata": {
        "id": "c3F7JZw6hT5Y"
      },
      "execution_count": null,
      "outputs": []
    },
    {
      "cell_type": "code",
      "source": [
        "survey_2016_2['tech_company'].value_counts()"
      ],
      "metadata": {
        "colab": {
          "base_uri": "https://localhost:8080/"
        },
        "id": "aVt_hB0DhksZ",
        "outputId": "b5aae52a-1c72-4646-b0b8-d7004f15f0cd"
      },
      "execution_count": null,
      "outputs": [
        {
          "output_type": "execute_result",
          "data": {
            "text/plain": [
              "Yes    1170\n",
              "No      263\n",
              "Name: tech_company, dtype: int64"
            ]
          },
          "metadata": {},
          "execution_count": 73
        }
      ]
    },
    {
      "cell_type": "code",
      "source": [
        "survey_2016_2.dtypes\n"
      ],
      "metadata": {
        "colab": {
          "base_uri": "https://localhost:8080/"
        },
        "id": "xWyPeALCioM6",
        "outputId": "59cb9446-b7e5-42cd-def8-54ad433024a0"
      },
      "execution_count": null,
      "outputs": [
        {
          "output_type": "execute_result",
          "data": {
            "text/plain": [
              "remote                                                                               object\n",
              "year                                                                                  int64\n",
              "age                                                                                   int64\n",
              "gender                                                                               string\n",
              "country                                                                              object\n",
              "state                                                                                object\n",
              "work_interface                                                                       object\n",
              "work_inteface1                                                                       object\n",
              "famiily_history                                                                      object\n",
              "past_mh_disorder                                                                     object\n",
              "current_mh_disorder                                                                  object\n",
              "If yes, what condition(s) have you been diagnosed with?                              object\n",
              "If maybe, what condition(s) do you believe you have?                                 object\n",
              "Have you been diagnosed with a mental health condition by a medical professional?    object\n",
              "If so, what condition(s) were you diagnosed with?                                    object\n",
              "treatment                                                                             int64\n",
              "online_ressources                                                                    object\n",
              "self_emplyed                                                                          int64\n",
              "num_empoyees                                                                          int64\n",
              "tech_company                                                                         object\n",
              "mh_benefits                                                                          object\n",
              "mh_care_option                                                                       object\n",
              "wellness_program                                                                     object\n",
              "mh_ressources                                                                        object\n",
              "leave_policy                                                                         object\n",
              "mh_impact                                                                            object\n",
              "ph_impact                                                                            object\n",
              "benefits2                                                                            object\n",
              "dtype: object"
            ]
          },
          "metadata": {},
          "execution_count": 29
        }
      ]
    },
    {
      "cell_type": "code",
      "source": [
        "survey_2016_2 = survey_2016_2.astype({'tech_company':'string'})\n"
      ],
      "metadata": {
        "id": "bX6zb97vioLA"
      },
      "execution_count": null,
      "outputs": []
    },
    {
      "cell_type": "code",
      "source": [
        "survey_2016_2['age'].value_counts()"
      ],
      "metadata": {
        "colab": {
          "base_uri": "https://localhost:8080/"
        },
        "id": "QXtZJKdEioII",
        "outputId": "b6f2a5e0-5986-486b-e770-7fc4b9b6da17"
      },
      "execution_count": null,
      "outputs": [
        {
          "output_type": "execute_result",
          "data": {
            "text/plain": [
              "30     94\n",
              "31     82\n",
              "29     79\n",
              "28     74\n",
              "35     74\n",
              "32     72\n",
              "33     69\n",
              "34     69\n",
              "26     64\n",
              "27     63\n",
              "37     59\n",
              "39     55\n",
              "38     54\n",
              "36     50\n",
              "25     44\n",
              "24     42\n",
              "40     36\n",
              "22     32\n",
              "44     31\n",
              "43     30\n",
              "42     29\n",
              "45     27\n",
              "23     24\n",
              "41     24\n",
              "46     22\n",
              "21     15\n",
              "47     14\n",
              "49     13\n",
              "55     12\n",
              "50      9\n",
              "48      9\n",
              "54      7\n",
              "52      7\n",
              "51      7\n",
              "20      6\n",
              "56      5\n",
              "63      4\n",
              "57      4\n",
              "19      4\n",
              "53      3\n",
              "61      2\n",
              "59      2\n",
              "66      1\n",
              "74      1\n",
              "65      1\n",
              "15      1\n",
              "17      1\n",
              "3       1\n",
              "58      1\n",
              "62      1\n",
              "323     1\n",
              "99      1\n",
              "70      1\n",
              "Name: age, dtype: int64"
            ]
          },
          "metadata": {},
          "execution_count": 75
        }
      ]
    },
    {
      "cell_type": "code",
      "source": [
        "mean_age = survey_2016_2[(survey_2016_2['age'] >= 18) | (survey_2016_2['age'] <= 75)]['age'].mean().round(0) \n",
        "survey_2016_2['age'].replace(to_replace = survey_2016_2[(survey_2016_2['age'] < 18) | (survey_2016_2['age'] > 75)]['age'].tolist(),\n",
        "                          value = mean_age, inplace = True)"
      ],
      "metadata": {
        "id": "jWjXAUvNioGk"
      },
      "execution_count": null,
      "outputs": []
    },
    {
      "cell_type": "code",
      "source": [
        "survey_2016_2['age'].value_counts()"
      ],
      "metadata": {
        "colab": {
          "base_uri": "https://localhost:8080/"
        },
        "id": "nOtcrgZejSLJ",
        "outputId": "b835289e-d72c-4520-e935-76e08c7f0605"
      },
      "execution_count": null,
      "outputs": [
        {
          "output_type": "execute_result",
          "data": {
            "text/plain": [
              "30.0    94\n",
              "31.0    82\n",
              "29.0    79\n",
              "28.0    74\n",
              "35.0    74\n",
              "34.0    74\n",
              "32.0    72\n",
              "33.0    69\n",
              "26.0    64\n",
              "27.0    63\n",
              "37.0    59\n",
              "39.0    55\n",
              "38.0    54\n",
              "36.0    50\n",
              "25.0    44\n",
              "24.0    42\n",
              "40.0    36\n",
              "22.0    32\n",
              "44.0    31\n",
              "43.0    30\n",
              "42.0    29\n",
              "45.0    27\n",
              "41.0    24\n",
              "23.0    24\n",
              "46.0    22\n",
              "21.0    15\n",
              "47.0    14\n",
              "49.0    13\n",
              "55.0    12\n",
              "48.0     9\n",
              "50.0     9\n",
              "51.0     7\n",
              "54.0     7\n",
              "52.0     7\n",
              "20.0     6\n",
              "56.0     5\n",
              "19.0     4\n",
              "63.0     4\n",
              "57.0     4\n",
              "53.0     3\n",
              "61.0     2\n",
              "59.0     2\n",
              "62.0     1\n",
              "58.0     1\n",
              "66.0     1\n",
              "65.0     1\n",
              "74.0     1\n",
              "70.0     1\n",
              "Name: age, dtype: int64"
            ]
          },
          "metadata": {},
          "execution_count": 77
        }
      ]
    },
    {
      "cell_type": "code",
      "source": [
        "survey_2016_2 = survey_2016_2.astype({'age':'int'})\n"
      ],
      "metadata": {
        "id": "E3GnsIxPjSJF"
      },
      "execution_count": null,
      "outputs": []
    },
    {
      "cell_type": "code",
      "source": [
        "survey_2016_2.isna().sum()"
      ],
      "metadata": {
        "colab": {
          "base_uri": "https://localhost:8080/"
        },
        "id": "dyEODgdICICe",
        "outputId": "89dd2832-437b-41b7-dc91-6bb375ed8cfc"
      },
      "execution_count": null,
      "outputs": [
        {
          "output_type": "execute_result",
          "data": {
            "text/plain": [
              "remote                                                                               0\n",
              "year                                                                                 0\n",
              "age                                                                                  0\n",
              "gender                                                                               0\n",
              "country                                                                              0\n",
              "state                                                                                0\n",
              "work_interface                                                                       0\n",
              "work_inteface1                                                                       0\n",
              "famiily_history                                                                      0\n",
              "past_mh_disorder                                                                     0\n",
              "current_mh_disorder                                                                  0\n",
              "If yes, what condition(s) have you been diagnosed with?                              0\n",
              "If maybe, what condition(s) do you believe you have?                                 0\n",
              "Have you been diagnosed with a mental health condition by a medical professional?    0\n",
              "If so, what condition(s) were you diagnosed with?                                    0\n",
              "treatment                                                                            0\n",
              "online_ressources                                                                    0\n",
              "self_emplyed                                                                         0\n",
              "num_empoyees                                                                         0\n",
              "tech_company                                                                         0\n",
              "mh_benefits                                                                          0\n",
              "mh_care_option                                                                       0\n",
              "wellness_program                                                                     0\n",
              "mh_ressources                                                                        0\n",
              "leave_policy                                                                         0\n",
              "mh_impact                                                                            0\n",
              "ph_impact                                                                            0\n",
              "benefits2                                                                            0\n",
              "dtype: int64"
            ]
          },
          "metadata": {},
          "execution_count": 79
        }
      ]
    },
    {
      "cell_type": "code",
      "source": [
        "survey_2016_2['tech_company'].value_counts()"
      ],
      "metadata": {
        "colab": {
          "base_uri": "https://localhost:8080/"
        },
        "id": "zguXKX00CH_D",
        "outputId": "8010dba4-36b0-4eba-e2c8-7437de632187"
      },
      "execution_count": null,
      "outputs": [
        {
          "output_type": "execute_result",
          "data": {
            "text/plain": [
              "Yes    1170\n",
              "No      263\n",
              "Name: tech_company, dtype: Int64"
            ]
          },
          "metadata": {},
          "execution_count": 80
        }
      ]
    },
    {
      "cell_type": "code",
      "source": [
        "# Dealing with other missing values\n",
        "from sklearn.impute import SimpleImputer\n",
        "\n",
        "# Impute nan with the most frequent value (mode) on every row\n",
        "imputer = SimpleImputer(strategy='most_frequent',missing_values=np.nan)\n",
        "imputer = imputer.fit(survey_2016)\n",
        "survey_2016.iloc[:,:] = imputer.transform(survey_2016)\n",
        "survey_2016 = pd.DataFrame(imputer.transform(survey_2016.loc[:,:]), \n",
        "                  columns = survey_2016.columns)\n",
        "survey_2016\n"
      ],
      "metadata": {
        "colab": {
          "base_uri": "https://localhost:8080/",
          "height": 1000
        },
        "id": "NZc0TWybCH9I",
        "outputId": "4c474c3a-7c73-42d3-a3da-cc2ffbca1bdf"
      },
      "execution_count": null,
      "outputs": [
        {
          "output_type": "execute_result",
          "data": {
            "text/plain": [
              "     Are you self-employed?  \\\n",
              "0                         0   \n",
              "1                         0   \n",
              "2                         0   \n",
              "3                         1   \n",
              "4                         0   \n",
              "...                     ...   \n",
              "1428                      1   \n",
              "1429                      1   \n",
              "1430                      0   \n",
              "1431                      0   \n",
              "1432                      0   \n",
              "\n",
              "     How many employees does your company or organization have?  \\\n",
              "0                                                26-100           \n",
              "1                                                  6-25           \n",
              "2                                                  6-25           \n",
              "3                                                26-100           \n",
              "4                                                  6-25           \n",
              "...                                                 ...           \n",
              "1428                                             26-100           \n",
              "1429                                             26-100           \n",
              "1430                                            100-500           \n",
              "1431                                            100-500           \n",
              "1432                                            100-500           \n",
              "\n",
              "     Is your employer primarily a tech company/organization?  \\\n",
              "0                                                   1.0        \n",
              "1                                                   1.0        \n",
              "2                                                   1.0        \n",
              "3                                                   1.0        \n",
              "4                                                   0.0        \n",
              "...                                                 ...        \n",
              "1428                                                1.0        \n",
              "1429                                                1.0        \n",
              "1430                                                1.0        \n",
              "1431                                                0.0        \n",
              "1432                                                1.0        \n",
              "\n",
              "     Is your primary role within your company related to tech/IT?  \\\n",
              "0                                                   1.0             \n",
              "1                                                   1.0             \n",
              "2                                                   1.0             \n",
              "3                                                   1.0             \n",
              "4                                                   1.0             \n",
              "...                                                 ...             \n",
              "1428                                                1.0             \n",
              "1429                                                1.0             \n",
              "1430                                                1.0             \n",
              "1431                                                1.0             \n",
              "1432                                                1.0             \n",
              "\n",
              "     Does your employer provide mental health benefits as part of healthcare coverage?  \\\n",
              "0                       Not eligible for coverage / N/A                                  \n",
              "1                                                    No                                  \n",
              "2                                                    No                                  \n",
              "3                                                   Yes                                  \n",
              "4                                                   Yes                                  \n",
              "...                                                 ...                                  \n",
              "1428                                                Yes                                  \n",
              "1429                                                Yes                                  \n",
              "1430                                                Yes                                  \n",
              "1431                                       I don't know                                  \n",
              "1432                                                Yes                                  \n",
              "\n",
              "     Do you know the options for mental health care available under your employer-provided coverage?  \\\n",
              "0                                                    No                                                \n",
              "1                                                   Yes                                                \n",
              "2                                                    No                                                \n",
              "3                                                    No                                                \n",
              "4                                                   Yes                                                \n",
              "...                                                 ...                                                \n",
              "1428                                                 No                                                \n",
              "1429                                                 No                                                \n",
              "1430                                                Yes                                                \n",
              "1431                                      I am not sure                                                \n",
              "1432                                                 No                                                \n",
              "\n",
              "     Has your employer ever formally discussed mental health (for example, as part of a wellness campaign or other official communication)?  \\\n",
              "0                                                    No                                                                                       \n",
              "1                                                   Yes                                                                                       \n",
              "2                                                    No                                                                                       \n",
              "3                                                    No                                                                                       \n",
              "4                                                    No                                                                                       \n",
              "...                                                 ...                                                                                       \n",
              "1428                                                 No                                                                                       \n",
              "1429                                                 No                                                                                       \n",
              "1430                                                Yes                                                                                       \n",
              "1431                                                 No                                                                                       \n",
              "1432                                                 No                                                                                       \n",
              "\n",
              "     Does your employer offer resources to learn more about mental health concerns and options for seeking help?  \\\n",
              "0                                                    No                                                            \n",
              "1                                                   Yes                                                            \n",
              "2                                                    No                                                            \n",
              "3                                                    No                                                            \n",
              "4                                                    No                                                            \n",
              "...                                                 ...                                                            \n",
              "1428                                                 No                                                            \n",
              "1429                                                 No                                                            \n",
              "1430                                                Yes                                                            \n",
              "1431                                                Yes                                                            \n",
              "1432                                                 No                                                            \n",
              "\n",
              "     Is your anonymity protected if you choose to take advantage of mental health or substance abuse treatment resources provided by your employer?  \\\n",
              "0                                          I don't know                                                                                               \n",
              "1                                                   Yes                                                                                               \n",
              "2                                          I don't know                                                                                               \n",
              "3                                          I don't know                                                                                               \n",
              "4                                                    No                                                                                               \n",
              "...                                                 ...                                                                                               \n",
              "1428                                       I don't know                                                                                               \n",
              "1429                                       I don't know                                                                                               \n",
              "1430                                       I don't know                                                                                               \n",
              "1431                                       I don't know                                                                                               \n",
              "1432                                       I don't know                                                                                               \n",
              "\n",
              "     If a mental health issue prompted you to request a medical leave from work, asking for that leave would be:  \\\n",
              "0                                             Very easy                                                            \n",
              "1                                         Somewhat easy                                                            \n",
              "2                            Neither easy nor difficult                                                            \n",
              "3                                         Somewhat easy                                                            \n",
              "4                            Neither easy nor difficult                                                            \n",
              "...                                                 ...                                                            \n",
              "1428                                      Somewhat easy                                                            \n",
              "1429                                      Somewhat easy                                                            \n",
              "1430                                 Somewhat difficult                                                            \n",
              "1431                                 Somewhat difficult                                                            \n",
              "1432                                     Very difficult                                                            \n",
              "\n",
              "      ...  \\\n",
              "0     ...   \n",
              "1     ...   \n",
              "2     ...   \n",
              "3     ...   \n",
              "4     ...   \n",
              "...   ...   \n",
              "1428  ...   \n",
              "1429  ...   \n",
              "1430  ...   \n",
              "1431  ...   \n",
              "1432  ...   \n",
              "\n",
              "     If you have a mental health issue, do you feel that it interferes with your work when NOT being treated effectively?  \\\n",
              "0                                  Not applicable to me                                                                     \n",
              "1                                             Sometimes                                                                     \n",
              "2                                  Not applicable to me                                                                     \n",
              "3                                             Sometimes                                                                     \n",
              "4                                             Sometimes                                                                     \n",
              "...                                                 ...                                                                     \n",
              "1428                               Not applicable to me                                                                     \n",
              "1429                                              Often                                                                     \n",
              "1430                                          Sometimes                                                                     \n",
              "1431                                              Often                                                                     \n",
              "1432                                              Often                                                                     \n",
              "\n",
              "     What is your age? What is your gender? What country do you live in?  \\\n",
              "0                   39                 Male               United Kingdom   \n",
              "1                   29                 male     United States of America   \n",
              "2                   38                Male                United Kingdom   \n",
              "3                   43                 male               United Kingdom   \n",
              "4                   43               Female     United States of America   \n",
              "...                ...                  ...                          ...   \n",
              "1428                34              Female      United States of America   \n",
              "1429                56                 MALE     United States of America   \n",
              "1430                52                 Male     United States of America   \n",
              "1431                30               Female     United States of America   \n",
              "1432                25           non-binary                       Canada   \n",
              "\n",
              "     What US state or territory do you live in? What country do you work in?  \\\n",
              "0                                    California               United Kingdom   \n",
              "1                                      Illinois     United States of America   \n",
              "2                                    California               United Kingdom   \n",
              "3                                    California               United Kingdom   \n",
              "4                                      Illinois     United States of America   \n",
              "...                                         ...                          ...   \n",
              "1428                                   New York     United States of America   \n",
              "1429                                 California                  Afghanistan   \n",
              "1430                                    Georgia     United States of America   \n",
              "1431                                   Nebraska     United States of America   \n",
              "1432                                 California                       Canada   \n",
              "\n",
              "     What US state or territory do you work in?  \\\n",
              "0                                    California   \n",
              "1                                      Illinois   \n",
              "2                                    California   \n",
              "3                                    California   \n",
              "4                                      Illinois   \n",
              "...                                         ...   \n",
              "1428                                   New York   \n",
              "1429                                 California   \n",
              "1430                                    Georgia   \n",
              "1431                                   Nebraska   \n",
              "1432                                 California   \n",
              "\n",
              "     Which of the following best describes your work position?  \\\n",
              "0                                    Back-end Developer          \n",
              "1                Back-end Developer|Front-end Developer          \n",
              "2                                    Back-end Developer          \n",
              "3                                  Supervisor/Team Lead          \n",
              "4     Executive Leadership|Supervisor/Team Lead|Dev ...          \n",
              "...                                                 ...          \n",
              "1428                                              Other          \n",
              "1429                                            Support          \n",
              "1430                                 Back-end Developer          \n",
              "1431                                    DevOps/SysAdmin          \n",
              "1432                                              Other          \n",
              "\n",
              "     Do you work remotely?  year  \n",
              "0                Sometimes  2016  \n",
              "1                    Never  2016  \n",
              "2                   Always  2016  \n",
              "3                Sometimes  2016  \n",
              "4                Sometimes  2016  \n",
              "...                    ...   ...  \n",
              "1428             Sometimes  2016  \n",
              "1429             Sometimes  2016  \n",
              "1430             Sometimes  2016  \n",
              "1431             Sometimes  2016  \n",
              "1432             Sometimes  2016  \n",
              "\n",
              "[1433 rows x 64 columns]"
            ],
            "text/html": [
              "\n",
              "  <div id=\"df-05775e56-cfe5-477c-be7f-cc898a9ab0aa\">\n",
              "    <div class=\"colab-df-container\">\n",
              "      <div>\n",
              "<style scoped>\n",
              "    .dataframe tbody tr th:only-of-type {\n",
              "        vertical-align: middle;\n",
              "    }\n",
              "\n",
              "    .dataframe tbody tr th {\n",
              "        vertical-align: top;\n",
              "    }\n",
              "\n",
              "    .dataframe thead th {\n",
              "        text-align: right;\n",
              "    }\n",
              "</style>\n",
              "<table border=\"1\" class=\"dataframe\">\n",
              "  <thead>\n",
              "    <tr style=\"text-align: right;\">\n",
              "      <th></th>\n",
              "      <th>Are you self-employed?</th>\n",
              "      <th>How many employees does your company or organization have?</th>\n",
              "      <th>Is your employer primarily a tech company/organization?</th>\n",
              "      <th>Is your primary role within your company related to tech/IT?</th>\n",
              "      <th>Does your employer provide mental health benefits as part of healthcare coverage?</th>\n",
              "      <th>Do you know the options for mental health care available under your employer-provided coverage?</th>\n",
              "      <th>Has your employer ever formally discussed mental health (for example, as part of a wellness campaign or other official communication)?</th>\n",
              "      <th>Does your employer offer resources to learn more about mental health concerns and options for seeking help?</th>\n",
              "      <th>Is your anonymity protected if you choose to take advantage of mental health or substance abuse treatment resources provided by your employer?</th>\n",
              "      <th>If a mental health issue prompted you to request a medical leave from work, asking for that leave would be:</th>\n",
              "      <th>...</th>\n",
              "      <th>If you have a mental health issue, do you feel that it interferes with your work when NOT being treated effectively?</th>\n",
              "      <th>What is your age?</th>\n",
              "      <th>What is your gender?</th>\n",
              "      <th>What country do you live in?</th>\n",
              "      <th>What US state or territory do you live in?</th>\n",
              "      <th>What country do you work in?</th>\n",
              "      <th>What US state or territory do you work in?</th>\n",
              "      <th>Which of the following best describes your work position?</th>\n",
              "      <th>Do you work remotely?</th>\n",
              "      <th>year</th>\n",
              "    </tr>\n",
              "  </thead>\n",
              "  <tbody>\n",
              "    <tr>\n",
              "      <th>0</th>\n",
              "      <td>0</td>\n",
              "      <td>26-100</td>\n",
              "      <td>1.0</td>\n",
              "      <td>1.0</td>\n",
              "      <td>Not eligible for coverage / N/A</td>\n",
              "      <td>No</td>\n",
              "      <td>No</td>\n",
              "      <td>No</td>\n",
              "      <td>I don't know</td>\n",
              "      <td>Very easy</td>\n",
              "      <td>...</td>\n",
              "      <td>Not applicable to me</td>\n",
              "      <td>39</td>\n",
              "      <td>Male</td>\n",
              "      <td>United Kingdom</td>\n",
              "      <td>California</td>\n",
              "      <td>United Kingdom</td>\n",
              "      <td>California</td>\n",
              "      <td>Back-end Developer</td>\n",
              "      <td>Sometimes</td>\n",
              "      <td>2016</td>\n",
              "    </tr>\n",
              "    <tr>\n",
              "      <th>1</th>\n",
              "      <td>0</td>\n",
              "      <td>6-25</td>\n",
              "      <td>1.0</td>\n",
              "      <td>1.0</td>\n",
              "      <td>No</td>\n",
              "      <td>Yes</td>\n",
              "      <td>Yes</td>\n",
              "      <td>Yes</td>\n",
              "      <td>Yes</td>\n",
              "      <td>Somewhat easy</td>\n",
              "      <td>...</td>\n",
              "      <td>Sometimes</td>\n",
              "      <td>29</td>\n",
              "      <td>male</td>\n",
              "      <td>United States of America</td>\n",
              "      <td>Illinois</td>\n",
              "      <td>United States of America</td>\n",
              "      <td>Illinois</td>\n",
              "      <td>Back-end Developer|Front-end Developer</td>\n",
              "      <td>Never</td>\n",
              "      <td>2016</td>\n",
              "    </tr>\n",
              "    <tr>\n",
              "      <th>2</th>\n",
              "      <td>0</td>\n",
              "      <td>6-25</td>\n",
              "      <td>1.0</td>\n",
              "      <td>1.0</td>\n",
              "      <td>No</td>\n",
              "      <td>No</td>\n",
              "      <td>No</td>\n",
              "      <td>No</td>\n",
              "      <td>I don't know</td>\n",
              "      <td>Neither easy nor difficult</td>\n",
              "      <td>...</td>\n",
              "      <td>Not applicable to me</td>\n",
              "      <td>38</td>\n",
              "      <td>Male</td>\n",
              "      <td>United Kingdom</td>\n",
              "      <td>California</td>\n",
              "      <td>United Kingdom</td>\n",
              "      <td>California</td>\n",
              "      <td>Back-end Developer</td>\n",
              "      <td>Always</td>\n",
              "      <td>2016</td>\n",
              "    </tr>\n",
              "    <tr>\n",
              "      <th>3</th>\n",
              "      <td>1</td>\n",
              "      <td>26-100</td>\n",
              "      <td>1.0</td>\n",
              "      <td>1.0</td>\n",
              "      <td>Yes</td>\n",
              "      <td>No</td>\n",
              "      <td>No</td>\n",
              "      <td>No</td>\n",
              "      <td>I don't know</td>\n",
              "      <td>Somewhat easy</td>\n",
              "      <td>...</td>\n",
              "      <td>Sometimes</td>\n",
              "      <td>43</td>\n",
              "      <td>male</td>\n",
              "      <td>United Kingdom</td>\n",
              "      <td>California</td>\n",
              "      <td>United Kingdom</td>\n",
              "      <td>California</td>\n",
              "      <td>Supervisor/Team Lead</td>\n",
              "      <td>Sometimes</td>\n",
              "      <td>2016</td>\n",
              "    </tr>\n",
              "    <tr>\n",
              "      <th>4</th>\n",
              "      <td>0</td>\n",
              "      <td>6-25</td>\n",
              "      <td>0.0</td>\n",
              "      <td>1.0</td>\n",
              "      <td>Yes</td>\n",
              "      <td>Yes</td>\n",
              "      <td>No</td>\n",
              "      <td>No</td>\n",
              "      <td>No</td>\n",
              "      <td>Neither easy nor difficult</td>\n",
              "      <td>...</td>\n",
              "      <td>Sometimes</td>\n",
              "      <td>43</td>\n",
              "      <td>Female</td>\n",
              "      <td>United States of America</td>\n",
              "      <td>Illinois</td>\n",
              "      <td>United States of America</td>\n",
              "      <td>Illinois</td>\n",
              "      <td>Executive Leadership|Supervisor/Team Lead|Dev ...</td>\n",
              "      <td>Sometimes</td>\n",
              "      <td>2016</td>\n",
              "    </tr>\n",
              "    <tr>\n",
              "      <th>...</th>\n",
              "      <td>...</td>\n",
              "      <td>...</td>\n",
              "      <td>...</td>\n",
              "      <td>...</td>\n",
              "      <td>...</td>\n",
              "      <td>...</td>\n",
              "      <td>...</td>\n",
              "      <td>...</td>\n",
              "      <td>...</td>\n",
              "      <td>...</td>\n",
              "      <td>...</td>\n",
              "      <td>...</td>\n",
              "      <td>...</td>\n",
              "      <td>...</td>\n",
              "      <td>...</td>\n",
              "      <td>...</td>\n",
              "      <td>...</td>\n",
              "      <td>...</td>\n",
              "      <td>...</td>\n",
              "      <td>...</td>\n",
              "      <td>...</td>\n",
              "    </tr>\n",
              "    <tr>\n",
              "      <th>1428</th>\n",
              "      <td>1</td>\n",
              "      <td>26-100</td>\n",
              "      <td>1.0</td>\n",
              "      <td>1.0</td>\n",
              "      <td>Yes</td>\n",
              "      <td>No</td>\n",
              "      <td>No</td>\n",
              "      <td>No</td>\n",
              "      <td>I don't know</td>\n",
              "      <td>Somewhat easy</td>\n",
              "      <td>...</td>\n",
              "      <td>Not applicable to me</td>\n",
              "      <td>34</td>\n",
              "      <td>Female</td>\n",
              "      <td>United States of America</td>\n",
              "      <td>New York</td>\n",
              "      <td>United States of America</td>\n",
              "      <td>New York</td>\n",
              "      <td>Other</td>\n",
              "      <td>Sometimes</td>\n",
              "      <td>2016</td>\n",
              "    </tr>\n",
              "    <tr>\n",
              "      <th>1429</th>\n",
              "      <td>1</td>\n",
              "      <td>26-100</td>\n",
              "      <td>1.0</td>\n",
              "      <td>1.0</td>\n",
              "      <td>Yes</td>\n",
              "      <td>No</td>\n",
              "      <td>No</td>\n",
              "      <td>No</td>\n",
              "      <td>I don't know</td>\n",
              "      <td>Somewhat easy</td>\n",
              "      <td>...</td>\n",
              "      <td>Often</td>\n",
              "      <td>56</td>\n",
              "      <td>MALE</td>\n",
              "      <td>United States of America</td>\n",
              "      <td>California</td>\n",
              "      <td>Afghanistan</td>\n",
              "      <td>California</td>\n",
              "      <td>Support</td>\n",
              "      <td>Sometimes</td>\n",
              "      <td>2016</td>\n",
              "    </tr>\n",
              "    <tr>\n",
              "      <th>1430</th>\n",
              "      <td>0</td>\n",
              "      <td>100-500</td>\n",
              "      <td>1.0</td>\n",
              "      <td>1.0</td>\n",
              "      <td>Yes</td>\n",
              "      <td>Yes</td>\n",
              "      <td>Yes</td>\n",
              "      <td>Yes</td>\n",
              "      <td>I don't know</td>\n",
              "      <td>Somewhat difficult</td>\n",
              "      <td>...</td>\n",
              "      <td>Sometimes</td>\n",
              "      <td>52</td>\n",
              "      <td>Male</td>\n",
              "      <td>United States of America</td>\n",
              "      <td>Georgia</td>\n",
              "      <td>United States of America</td>\n",
              "      <td>Georgia</td>\n",
              "      <td>Back-end Developer</td>\n",
              "      <td>Sometimes</td>\n",
              "      <td>2016</td>\n",
              "    </tr>\n",
              "    <tr>\n",
              "      <th>1431</th>\n",
              "      <td>0</td>\n",
              "      <td>100-500</td>\n",
              "      <td>0.0</td>\n",
              "      <td>1.0</td>\n",
              "      <td>I don't know</td>\n",
              "      <td>I am not sure</td>\n",
              "      <td>No</td>\n",
              "      <td>Yes</td>\n",
              "      <td>I don't know</td>\n",
              "      <td>Somewhat difficult</td>\n",
              "      <td>...</td>\n",
              "      <td>Often</td>\n",
              "      <td>30</td>\n",
              "      <td>Female</td>\n",
              "      <td>United States of America</td>\n",
              "      <td>Nebraska</td>\n",
              "      <td>United States of America</td>\n",
              "      <td>Nebraska</td>\n",
              "      <td>DevOps/SysAdmin</td>\n",
              "      <td>Sometimes</td>\n",
              "      <td>2016</td>\n",
              "    </tr>\n",
              "    <tr>\n",
              "      <th>1432</th>\n",
              "      <td>0</td>\n",
              "      <td>100-500</td>\n",
              "      <td>1.0</td>\n",
              "      <td>1.0</td>\n",
              "      <td>Yes</td>\n",
              "      <td>No</td>\n",
              "      <td>No</td>\n",
              "      <td>No</td>\n",
              "      <td>I don't know</td>\n",
              "      <td>Very difficult</td>\n",
              "      <td>...</td>\n",
              "      <td>Often</td>\n",
              "      <td>25</td>\n",
              "      <td>non-binary</td>\n",
              "      <td>Canada</td>\n",
              "      <td>California</td>\n",
              "      <td>Canada</td>\n",
              "      <td>California</td>\n",
              "      <td>Other</td>\n",
              "      <td>Sometimes</td>\n",
              "      <td>2016</td>\n",
              "    </tr>\n",
              "  </tbody>\n",
              "</table>\n",
              "<p>1433 rows × 64 columns</p>\n",
              "</div>\n",
              "      <button class=\"colab-df-convert\" onclick=\"convertToInteractive('df-05775e56-cfe5-477c-be7f-cc898a9ab0aa')\"\n",
              "              title=\"Convert this dataframe to an interactive table.\"\n",
              "              style=\"display:none;\">\n",
              "        \n",
              "  <svg xmlns=\"http://www.w3.org/2000/svg\" height=\"24px\"viewBox=\"0 0 24 24\"\n",
              "       width=\"24px\">\n",
              "    <path d=\"M0 0h24v24H0V0z\" fill=\"none\"/>\n",
              "    <path d=\"M18.56 5.44l.94 2.06.94-2.06 2.06-.94-2.06-.94-.94-2.06-.94 2.06-2.06.94zm-11 1L8.5 8.5l.94-2.06 2.06-.94-2.06-.94L8.5 2.5l-.94 2.06-2.06.94zm10 10l.94 2.06.94-2.06 2.06-.94-2.06-.94-.94-2.06-.94 2.06-2.06.94z\"/><path d=\"M17.41 7.96l-1.37-1.37c-.4-.4-.92-.59-1.43-.59-.52 0-1.04.2-1.43.59L10.3 9.45l-7.72 7.72c-.78.78-.78 2.05 0 2.83L4 21.41c.39.39.9.59 1.41.59.51 0 1.02-.2 1.41-.59l7.78-7.78 2.81-2.81c.8-.78.8-2.07 0-2.86zM5.41 20L4 18.59l7.72-7.72 1.47 1.35L5.41 20z\"/>\n",
              "  </svg>\n",
              "      </button>\n",
              "      \n",
              "  <style>\n",
              "    .colab-df-container {\n",
              "      display:flex;\n",
              "      flex-wrap:wrap;\n",
              "      gap: 12px;\n",
              "    }\n",
              "\n",
              "    .colab-df-convert {\n",
              "      background-color: #E8F0FE;\n",
              "      border: none;\n",
              "      border-radius: 50%;\n",
              "      cursor: pointer;\n",
              "      display: none;\n",
              "      fill: #1967D2;\n",
              "      height: 32px;\n",
              "      padding: 0 0 0 0;\n",
              "      width: 32px;\n",
              "    }\n",
              "\n",
              "    .colab-df-convert:hover {\n",
              "      background-color: #E2EBFA;\n",
              "      box-shadow: 0px 1px 2px rgba(60, 64, 67, 0.3), 0px 1px 3px 1px rgba(60, 64, 67, 0.15);\n",
              "      fill: #174EA6;\n",
              "    }\n",
              "\n",
              "    [theme=dark] .colab-df-convert {\n",
              "      background-color: #3B4455;\n",
              "      fill: #D2E3FC;\n",
              "    }\n",
              "\n",
              "    [theme=dark] .colab-df-convert:hover {\n",
              "      background-color: #434B5C;\n",
              "      box-shadow: 0px 1px 3px 1px rgba(0, 0, 0, 0.15);\n",
              "      filter: drop-shadow(0px 1px 2px rgba(0, 0, 0, 0.3));\n",
              "      fill: #FFFFFF;\n",
              "    }\n",
              "  </style>\n",
              "\n",
              "      <script>\n",
              "        const buttonEl =\n",
              "          document.querySelector('#df-05775e56-cfe5-477c-be7f-cc898a9ab0aa button.colab-df-convert');\n",
              "        buttonEl.style.display =\n",
              "          google.colab.kernel.accessAllowed ? 'block' : 'none';\n",
              "\n",
              "        async function convertToInteractive(key) {\n",
              "          const element = document.querySelector('#df-05775e56-cfe5-477c-be7f-cc898a9ab0aa');\n",
              "          const dataTable =\n",
              "            await google.colab.kernel.invokeFunction('convertToInteractive',\n",
              "                                                     [key], {});\n",
              "          if (!dataTable) return;\n",
              "\n",
              "          const docLinkHtml = 'Like what you see? Visit the ' +\n",
              "            '<a target=\"_blank\" href=https://colab.research.google.com/notebooks/data_table.ipynb>data table notebook</a>'\n",
              "            + ' to learn more about interactive tables.';\n",
              "          element.innerHTML = '';\n",
              "          dataTable['output_type'] = 'display_data';\n",
              "          await google.colab.output.renderOutput(dataTable, element);\n",
              "          const docLink = document.createElement('div');\n",
              "          docLink.innerHTML = docLinkHtml;\n",
              "          element.appendChild(docLink);\n",
              "        }\n",
              "      </script>\n",
              "    </div>\n",
              "  </div>\n",
              "  "
            ]
          },
          "metadata": {},
          "execution_count": 45
        }
      ]
    },
    {
      "cell_type": "code",
      "source": [
        "survey_2016_3 = survey_2016[['Do you work remotely?', 'year',\n",
        "       'What is your age?', 'What is your gender?',\n",
        "       'What country do you live in?',\n",
        "       'What US state or territory do you live in?',\n",
        "       'If you have a mental health issue, do you feel that it interferes with your work when being treated effectively?',\n",
        "       'If you have a mental health issue, do you feel that it interferes with your work when NOT being treated effectively?',\n",
        "       'Do you have a family history of mental illness?',\n",
        "       'Have you had a mental health disorder in the past?',\n",
        "       'Do you currently have a mental health disorder?',\n",
        "       'If yes, what condition(s) have you been diagnosed with?',\n",
        "       'If maybe, what condition(s) do you believe you have?',\n",
        "       'Have you been diagnosed with a mental health condition by a medical professional?',\n",
        "       'If so, what condition(s) were you diagnosed with?',\n",
        "       'Have you ever sought treatment for a mental health issue from a mental health professional?',\n",
        "       'Do you know local or online resources to seek help for a mental health disorder?',\n",
        "       'Are you self-employed?',\n",
        "       'How many employees does your company or organization have?',\n",
        "       'Is your employer primarily a tech company/organization?',\n",
        "        'Does your employer provide mental health benefits as part of healthcare coverage?',\n",
        "        'Do you know the options for mental health care available under your employer-provided coverage?',\n",
        "       'Has your employer ever formally discussed mental health (for example, as part of a wellness campaign or other official communication)?',\n",
        "       'Does your employer offer resources to learn more about mental health concerns and options for seeking help?',\n",
        "'If a mental health issue prompted you to request a medical leave from work, asking for that leave would be:',\n",
        "       'Do you think that discussing a mental health disorder with your employer would have negative consequences?',\n",
        "       'Do you think that discussing a physical health issue with your employer would have negative consequences?',\n",
        "              'Have your previous employers provided mental health benefits?']]\n",
        "\n",
        "\n"
      ],
      "metadata": {
        "id": "3FV5_CkKCH6x"
      },
      "execution_count": null,
      "outputs": []
    },
    {
      "cell_type": "code",
      "source": [
        "survey_2016_3.rename(columns = {'Do you work remotely?':'remote',\n",
        "                                'What is your age?':'age',\n",
        "                                'What is your gender?':'gender',\n",
        "                                'What country do you live in?':'country',\n",
        "                                'What US state or territory do you live in?':'state',\n",
        "                                \"If you have a mental health issue, do you feel that it interferes with your work when being treated effectively?\":'work_interface',\n",
        "                                'If you have a mental health issue, do you feel that it interferes with your work when NOT being treated effectively?':'work_inteface1',\n",
        "                                'Do you have a family history of mental illness?':'famiily_history',\n",
        "                                'Have you had a mental health disorder in the past?':'past_mh_disorder',\n",
        "                                'Do you currently have a mental health disorder?':'current_mh_disorder',\n",
        "                                'Have you ever sought treatment for a mental health issue from a mental health professional?':'treatment',\n",
        "                                'Do you know local or online resources to seek help for a mental health disorder?':'online_ressources',\n",
        "                                'Are you self-employed?':'self_emplyed',\n",
        "                                'How many employees does your company or organization have?':'num_empoyees',\n",
        "                                'Is your employer primarily a tech company/organization?':'tech_company',\n",
        "                                'Does your employer provide mental health benefits as part of healthcare coverage?':'mh_benefits',\n",
        "        'Do you know the options for mental health care available under your employer-provided coverage?':'mh_care_option',\n",
        "       'Has your employer ever formally discussed mental health (for example, as part of a wellness campaign or other official communication)?':'wellness_program',\n",
        "       'Does your employer offer resources to learn more about mental health concerns and options for seeking help?':'mh_ressources',\n",
        "       'If a mental health issue prompted you to request a medical leave from work, asking for that leave would be:':'leave_policy',\n",
        "       'Do you think that discussing a mental health disorder with your employer would have negative consequences?':'mh_impact',\n",
        "       'Do you think that discussing a physical health issue with your employer would have negative consequences?':'ph_impact',\n",
        "              'Have your previous employers provided mental health benefits?':'benefits2'}, inplace = True)"
      ],
      "metadata": {
        "colab": {
          "base_uri": "https://localhost:8080/"
        },
        "id": "YJGVp5e2CH4d",
        "outputId": "4504d8b5-e60d-4268-f082-1f702a379d62"
      },
      "execution_count": null,
      "outputs": [
        {
          "output_type": "stream",
          "name": "stderr",
          "text": [
            "/usr/local/lib/python3.8/dist-packages/pandas/core/frame.py:5039: SettingWithCopyWarning: \n",
            "A value is trying to be set on a copy of a slice from a DataFrame\n",
            "\n",
            "See the caveats in the documentation: https://pandas.pydata.org/pandas-docs/stable/user_guide/indexing.html#returning-a-view-versus-a-copy\n",
            "  return super().rename(\n"
          ]
        }
      ]
    },
    {
      "cell_type": "code",
      "source": [
        "survey_2016_3.isna().sum()"
      ],
      "metadata": {
        "colab": {
          "base_uri": "https://localhost:8080/"
        },
        "id": "gayb2N--CH2c",
        "outputId": "55ad82f5-842b-4998-b27a-7d45cef828ce"
      },
      "execution_count": null,
      "outputs": [
        {
          "output_type": "execute_result",
          "data": {
            "text/plain": [
              "remote                                                                               0\n",
              "year                                                                                 0\n",
              "age                                                                                  0\n",
              "gender                                                                               0\n",
              "country                                                                              0\n",
              "state                                                                                0\n",
              "work_interface                                                                       0\n",
              "work_inteface1                                                                       0\n",
              "famiily_history                                                                      0\n",
              "past_mh_disorder                                                                     0\n",
              "current_mh_disorder                                                                  0\n",
              "If yes, what condition(s) have you been diagnosed with?                              0\n",
              "If maybe, what condition(s) do you believe you have?                                 0\n",
              "Have you been diagnosed with a mental health condition by a medical professional?    0\n",
              "If so, what condition(s) were you diagnosed with?                                    0\n",
              "treatment                                                                            0\n",
              "online_ressources                                                                    0\n",
              "self_emplyed                                                                         0\n",
              "num_empoyees                                                                         0\n",
              "tech_company                                                                         0\n",
              "mh_benefits                                                                          0\n",
              "mh_care_option                                                                       0\n",
              "wellness_program                                                                     0\n",
              "mh_ressources                                                                        0\n",
              "leave_policy                                                                         0\n",
              "mh_impact                                                                            0\n",
              "ph_impact                                                                            0\n",
              "benefits2                                                                            0\n",
              "dtype: int64"
            ]
          },
          "metadata": {},
          "execution_count": 48
        }
      ]
    },
    {
      "cell_type": "code",
      "source": [
        "survey_2016_3.dtypes\n"
      ],
      "metadata": {
        "colab": {
          "base_uri": "https://localhost:8080/"
        },
        "id": "s7dPQ5mHCH0N",
        "outputId": "513b3625-36ee-426c-8458-ad2580aca934"
      },
      "execution_count": null,
      "outputs": [
        {
          "output_type": "execute_result",
          "data": {
            "text/plain": [
              "remote                                                                               object\n",
              "year                                                                                 object\n",
              "age                                                                                  object\n",
              "gender                                                                               object\n",
              "country                                                                              object\n",
              "state                                                                                object\n",
              "work_interface                                                                       object\n",
              "work_inteface1                                                                       object\n",
              "famiily_history                                                                      object\n",
              "past_mh_disorder                                                                     object\n",
              "current_mh_disorder                                                                  object\n",
              "If yes, what condition(s) have you been diagnosed with?                              object\n",
              "If maybe, what condition(s) do you believe you have?                                 object\n",
              "Have you been diagnosed with a mental health condition by a medical professional?    object\n",
              "If so, what condition(s) were you diagnosed with?                                    object\n",
              "treatment                                                                            object\n",
              "online_ressources                                                                    object\n",
              "self_emplyed                                                                         object\n",
              "num_empoyees                                                                         object\n",
              "tech_company                                                                         object\n",
              "mh_benefits                                                                          object\n",
              "mh_care_option                                                                       object\n",
              "wellness_program                                                                     object\n",
              "mh_ressources                                                                        object\n",
              "leave_policy                                                                         object\n",
              "mh_impact                                                                            object\n",
              "ph_impact                                                                            object\n",
              "benefits2                                                                            object\n",
              "dtype: object"
            ]
          },
          "metadata": {},
          "execution_count": 49
        }
      ]
    },
    {
      "cell_type": "code",
      "source": [
        "survey_2016_3 = survey_2016_3.astype({'age':'int'})\n"
      ],
      "metadata": {
        "id": "n8abreMNCHwr"
      },
      "execution_count": null,
      "outputs": []
    },
    {
      "cell_type": "code",
      "source": [
        "survey_2016_2.to_excel('201612.xlsx')\n"
      ],
      "metadata": {
        "id": "pfyaArmEjSER"
      },
      "execution_count": null,
      "outputs": []
    }
  ]
}